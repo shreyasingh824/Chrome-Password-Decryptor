{
 "cells": [
  {
   "cell_type": "code",
   "execution_count": 30,
   "id": "e4ea5ea3",
   "metadata": {},
   "outputs": [
    {
     "data": {
      "text/plain": [
       "'C:\\\\Users\\\\Shreya'"
      ]
     },
     "execution_count": 30,
     "metadata": {},
     "output_type": "execute_result"
    }
   ],
   "source": [
    "pwd\n"
   ]
  },
  {
   "cell_type": "code",
   "execution_count": 31,
   "id": "e90ab3dc",
   "metadata": {},
   "outputs": [],
   "source": [
    "import os\n",
    "import json\n",
    "import base64\n",
    "import sqlite3\n",
    "import win32crypt"
   ]
  },
  {
   "cell_type": "code",
   "execution_count": 32,
   "id": "f6314ba0",
   "metadata": {},
   "outputs": [],
   "source": [
    "from Crypto.Cipher import AES\n",
    "import shutil\n",
    "from datetime import timezone, datetime, timedelta"
   ]
  },
  {
   "cell_type": "code",
   "execution_count": 33,
   "id": "d83e4506",
   "metadata": {},
   "outputs": [],
   "source": [
    "def chrome_datetime(chrome_data):\n",
    "    # Convert a Chrome timestamp to a Python datetime object.\n",
    "    return datetime(1601, 1, 1) + timedelta(microseconds=chrome_data)"
   ]
  },
  {
   "cell_type": "code",
   "execution_count": 34,
   "id": "5f1a801d",
   "metadata": {},
   "outputs": [],
   "source": [
    "def get_encryption_key():\n",
    "    # Read the Chrome Local State file to obtain the encryption key.\n",
    "    local_state_path = os.path.join(\n",
    "        os.environ[\"USERPROFILE\"], \"AppData\", \"Local\", \"Google\", \"Chrome\",\n",
    "        \"User Data\", \"Local State\")\n",
    "    \n",
    "    with open(local_state_path, \"r\", encoding=\"utf-8\") as f:\n",
    "        local_state_data = f.read()\n",
    "        local_state_data = json.loads(local_state_data)\n",
    "\n",
    "    # Decode the base64-encoded encryption key.\n",
    "    encrypted_key = base64.b64decode(\n",
    "        local_state_data[\"os_crypt\"][\"encrypted_key\"])\n",
    "    \n",
    "    # Remove the Windows Data Protection API (DPAPI) prefix.\n",
    "    encrypted_key = encrypted_key[5:]\n",
    "    \n",
    "    # Decrypt and return the key.\n",
    "    return win32crypt.CryptUnprotectData(encrypted_key, None, None, None, 0)[1]\n",
    "\n",
    "def decrypt_password(encrypted_password, encryption_key):\n",
    "    try:\n",
    "        # Extract the initialization vector (IV) and encrypted password.\n",
    "        iv = encrypted_password[3:15]\n",
    "        encrypted_password = encrypted_password[15:]\n",
    "        \n",
    "        # Create an AES cipher for decryption.\n",
    "        cipher = AES.new(encryption_key, AES.MODE_GCM, iv)\n",
    "        \n",
    "        # Decrypt the password and remove padding.\n",
    "        return cipher.decrypt(encrypted_password)[:-16].decode()\n",
    "    except:\n",
    "        try:\n",
    "            # Attempt to decrypt using Windows CryptUnprotectData.\n",
    "            return str(win32crypt.CryptUnprotectData(encrypted_password, None, None, None, 0)[1])\n",
    "        except:\n",
    "            # If decryption fails, return a message indicating no passwords were found.\n",
    "            return \"No Passwords\"\n"
   ]
  },
  {
   "cell_type": "code",
   "execution_count": 35,
   "id": "9c471486",
   "metadata": {},
   "outputs": [],
   "source": [
    "def main():\n",
    "    # Obtain the encryption key from the Chrome Local State file.\n",
    "    encryption_key = get_encryption_key()\n",
    "    \n",
    "    # Path to the Chrome login data database.\n",
    "    db_path = os.path.join(os.environ[\"USERPROFILE\"], \"AppData\", \"Local\",\n",
    "                        \"Google\", \"Chrome\", \"User Data\", \"default\", \"Login Data\")\n",
    "    \n",
    "    # Filename for the copied database.\n",
    "    output_filename = \"ChromePasswords.db\"\n",
    "    \n",
    "    # Create a copy of the Chrome login data database.\n",
    "    shutil.copyfile(db_path, output_filename)\n",
    "    \n",
    "    # Connect to the copied database.\n",
    "    db = sqlite3.connect(output_filename)\n",
    "    cursor = db.cursor()\n",
    "    \n",
    "    # Execute a query to retrieve login data.\n",
    "    cursor.execute(\n",
    "        \"SELECT origin_url, action_url, username_value, password_value, date_created, date_last_used FROM logins \"\n",
    "        \"ORDER BY date_last_used\")\n",
    "    \n",
    "    # Iterate over the retrieved login data.\n",
    "    for row in cursor.fetchall():\n",
    "        main_url = row[0]\n",
    "        login_url = row[1]\n",
    "        username = row[2]\n",
    "        \n",
    "        # Decrypt the password using the encryption key.\n",
    "        decrypted_password = decrypt_password(row[3], encryption_key)\n",
    "        \n",
    "        creation_date = row[4]\n",
    "        last_usage = row[5]\n",
    "        \n",
    "        # Display login information.\n",
    "        if username or decrypted_password:\n",
    "            print(f\"Main URL: {main_url}\")\n",
    "            print(f\"Login URL: {login_url}\")\n",
    "            print(f\"Username: {username}\")\n",
    "            print(f\"Decrypted Password: {decrypted_password}\")\n",
    "        \n",
    "        # Display creation date if available.\n",
    "        if creation_date != 86400000000 and creation_date:\n",
    "            print(f\"Creation Date: {str(chrome_datetime(creation_date))}\")\n",
    "        \n",
    "        # Display last usage date if available.\n",
    "        if last_usage != 86400000000 and last_usage:\n",
    "            print(f\"Last Used: {str(chrome_datetime(last_usage))}\")\n",
    "        \n",
    "        print(\"=\" * 100)\n",
    "    \n",
    "    # Close the database connection.\n",
    "    cursor.close()\n",
    "    db.close()\n",
    "    \n",
    "    try:\n",
    "        # Try to remove the copied database file.\n",
    "        os.remove(output_filename)\n",
    "    except:\n",
    "        pass"
   ]
  },
  {
   "cell_type": "code",
   "execution_count": null,
   "id": "2477cd7f",
   "metadata": {},
   "outputs": [],
   "source": [
    "\n",
    "if __name__ == \"__main__\":\n",
    "    main()"
   ]
  },
  {
   "cell_type": "code",
   "execution_count": null,
   "id": "3efc9bf4",
   "metadata": {},
   "outputs": [],
   "source": []
  }
 ],
 "metadata": {
  "kernelspec": {
   "display_name": "Python 3 (ipykernel)",
   "language": "python",
   "name": "python3"
  },
  "language_info": {
   "codemirror_mode": {
    "name": "ipython",
    "version": 3
   },
   "file_extension": ".py",
   "mimetype": "text/x-python",
   "name": "python",
   "nbconvert_exporter": "python",
   "pygments_lexer": "ipython3",
   "version": "3.9.13"
  }
 },
 "nbformat": 4,
 "nbformat_minor": 5
}
